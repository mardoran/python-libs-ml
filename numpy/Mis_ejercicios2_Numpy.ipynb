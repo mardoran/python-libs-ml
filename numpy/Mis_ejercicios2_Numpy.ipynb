{
 "cells": [
  {
   "cell_type": "markdown",
   "metadata": {},
   "source": [
    "# Ejercicios Python 2"
   ]
  },
  {
   "cell_type": "markdown",
   "metadata": {},
   "source": [
    "Resuelve cada ejercicio en su celda y añade las pruebas necesarias para comprobar que funciona correctamente. Indica en un comentario la dificultad encontrada (del 1 al 5)."
   ]
  },
  {
   "cell_type": "markdown",
   "metadata": {},
   "source": [
    "## Función que recibe una lista y devuelve otra eliminando sus duplicados"
   ]
  },
  {
   "cell_type": "code",
   "execution_count": 2,
   "metadata": {},
   "outputs": [
    {
     "name": "stdout",
     "output_type": "stream",
     "text": [
      "[1 2 3 4 5 7 8]\n",
      "['azul' 'gris' 'negro' 'rojo' 'verde']\n"
     ]
    }
   ],
   "source": [
    "import numpy as np\n",
    "\n",
    "def sin_duplicados(lista):\n",
    "    return np.unique(lista)\n",
    "        \n",
    "#pruebas        \n",
    "print (sin_duplicados(np.array([1,3,4,3,5,5,2,1,3,2,7,8,5])))\n",
    "print (sin_duplicados(np.array([\"verde\",\"azul\",\"gris\",\"azul\",\"rojo\",\"negro\",\"rojo\"])))\n"
   ]
  },
  {
   "cell_type": "markdown",
   "metadata": {},
   "source": [
    "## Función que recibe una matriz de NumPy y devuelve otra sustituyendo los valores repetidos por NaN"
   ]
  },
  {
   "cell_type": "code",
   "execution_count": 3,
   "metadata": {},
   "outputs": [
    {
     "name": "stdout",
     "output_type": "stream",
     "text": [
      "[[ 5.  6.  8.]\n",
      " [nan nan  3.]\n",
      " [ 9. 10. nan]]\n",
      "[[ 1. nan  2.]\n",
      " [nan nan nan]\n",
      " [ 3.  4. nan]]\n"
     ]
    }
   ],
   "source": [
    "import numpy as np\n",
    "\n",
    "def matriz_sin_duplicados(matriz):\n",
    "    \n",
    "    matriz_sin_duplicados=np.empty(matriz.shape,dtype=float) #creamos una matriz vacía con el tamaño de la matriz pasada y de tipo float para que no falle al insertar nan.\n",
    "    lista_compare = set() # declaramos una colección contra la que compararemos la matriz  \n",
    "\n",
    "    for fil, fila in enumerate(matriz): #recorremos las filas de la matris\n",
    "        for col, elem in enumerate(fila): #recorremos los elementos de cada fila\n",
    "            if elem in lista_compare: \n",
    "                matriz_sin_duplicados[fil,col] = np.nan #si el elemento está en la colección de elementos a comparar, asignamos NaN a ese elemento\n",
    "            else:    \n",
    "                matriz_sin_duplicados[fil,col] = elem #si no está, nos quedamos con el elemento\n",
    "            lista_compare.add(elem) #añadimos el elemento a la lista a comparar para que no se vuelva a insertar\n",
    "    return matriz_sin_duplicados\n",
    "\n",
    "#pruebas\n",
    "\n",
    "print(matriz_sin_duplicados(np.array([[5, 6, 8], [8, 5, 3], [9, 10, 3]])))\n",
    "print(matriz_sin_duplicados(np.array([[1, 1, 2], [2, 1, 2], [3, 4, 3]])))"
   ]
  },
  {
   "cell_type": "markdown",
   "metadata": {},
   "source": [
    "## Función que recibe una lista y devuelve un diccionario con el número de veces que aparece cada elemento.\n",
    "Las claves del diccionario deben ser los elementos de la lista y los valores deben ser el número de veces que aparece dicho elemento en la lista"
   ]
  },
  {
   "cell_type": "code",
   "execution_count": 4,
   "metadata": {},
   "outputs": [
    {
     "name": "stdout",
     "output_type": "stream",
     "text": [
      "{1: 1, 2: 2, 3: 2, 4: 3, 5: 3, 6: 1, 7: 1}\n",
      "{'azul': 2, 'gris': 1, 'negro': 1, 'rojo': 3, 'verde': 1}\n"
     ]
    }
   ],
   "source": [
    "import numpy as np\n",
    "\n",
    "def lista_a_diccionario(lista):\n",
    "    #con unique de nuestra lista almacenamos los elementos únicos en la lista elementos y \n",
    "    #con el parámetro return_counts activo, almacenamos las veces que se repiten en la variable veces\n",
    "    elementos, veces = np.unique(lista, return_counts=True) \n",
    "    #con zip se crean tuplas de los valores de ambas listas (elemento,vez) y dict los convierte a diccionario\n",
    "    return dict((zip(elementos, veces)))\n",
    "     \n",
    "#pruebas   \n",
    "print (lista_a_diccionario(np.array([1,2,5,5,4,5,6,7,2,3,3,4,4])))\n",
    "print (lista_a_diccionario(np.array([\"verde\",\"azul\",\"gris\",\"azul\",\"rojo\",\"negro\",\"rojo\",\"rojo\"])))\n"
   ]
  },
  {
   "cell_type": "markdown",
   "metadata": {},
   "source": [
    "## Función que recibe dos matrices cuadradas (NxN) y devuelve una tercera matriz que contiene el valor 1 en las posiciones en que el valor de A y B coinciden y 0 en caso contrario."
   ]
  },
  {
   "cell_type": "code",
   "execution_count": 3,
   "metadata": {},
   "outputs": [
    {
     "name": "stdout",
     "output_type": "stream",
     "text": [
      "[[1 0 0]\n",
      " [0 1 0]\n",
      " [0 0 1]]\n"
     ]
    }
   ],
   "source": [
    "import numpy as np\n",
    "\n",
    "def valores_iguales_matriz(matriz1, matriz2):\n",
    "    matriz_comparacion = np.where(matriz1==matriz2,1,0) # si se cumple la condición devuelve 1 y si no 0\n",
    "    return matriz_comparacion \n",
    "\n",
    "# Tests\n",
    "matriz1 = np.array([[1, 2, 3], [4, 5, 6], [7, 8, 9]]) # Matriz 3x3\n",
    "matriz2 = np.array([[1, 5, 6], [7, 5, 9], [1, 2, 9]]) # Matriz 3x3\n",
    "\n",
    "print(valores_iguales_matriz(matriz1, matriz2)) # Debería mostrar una matriz identidad\n",
    "#para poder hacer el assert con arrays numpy debemos comparar (array1 & array2).all\n",
    "assert (valores_iguales_matriz(matriz1, matriz2) & np.array([[1, 0, 0], [0, 1, 0], [0, 0, 1]])).all\n"
   ]
  },
  {
   "cell_type": "markdown",
   "metadata": {},
   "source": [
    "## Función que recibe una matriz y busca sus puntos de silla o *saddle points* (máximos de su fila y mínimos de su columna o viceversa). Debe devolver una lista de tuplas con las coordenadas de los puntos de silla."
   ]
  },
  {
   "cell_type": "markdown",
   "metadata": {},
   "source": [
    "## "
   ]
  },
  {
   "cell_type": "code",
   "execution_count": 22,
   "metadata": {},
   "outputs": [
    {
     "name": "stdout",
     "output_type": "stream",
     "text": [
      "[(0, 2)]\n",
      "[(2, 0)]\n"
     ]
    }
   ],
   "source": [
    "import numpy as np\n",
    "\n",
    "def devuelve_puntos_silla(matriz, max_fila=True):\n",
    "    puntos_silla = []\n",
    "\n",
    "    #recorremos las filas\n",
    "    for i, fila in enumerate(matriz):\n",
    "        # si max_fila es True buscamos maximo fila y mínimo columna, si no, al revés)\n",
    "        if max_fila:\n",
    "            maximo_fila = fila.max() #nos quedamos con el valor máximo de cada fila \n",
    "            for j in [j for j, valor in enumerate(fila) if fila[j]==maximo_fila]: #buscamos los índices de la fila dónde está el valor máximo (que serán la columna)\n",
    "                if maximo_fila == matriz[:,j].min(): #con slicing buscamos el mínimo de los valores de esa columna, si coincide con nuestro máximo será el punto de silla\n",
    "                    puntos_silla.append((i, j)) \n",
    "        else:\n",
    "            minimo_fila = fila.min() #nos quedamos con el valor mínimo de cada fila \n",
    "            for j in [j for j, valor in enumerate(fila) if fila[j]==minimo_fila]: #buscamos los índices de la fila dónde está el valor mínimo (que serán la columna)\n",
    "                if minimo_fila == matriz[:,j].max(): #con slicing buscamos el máximo de los valores de esa columna, si coincide con nuestro mínimo será el punto de silla\n",
    "                    puntos_silla.append((i, j)) \n",
    "\n",
    "    return puntos_silla\n",
    "\n",
    "#pruebas\n",
    "\n",
    "print(devuelve_puntos_silla(np.array([[1, 2, 3], [4, 5, 6], [7, 8, 9]]))) # (0,2) el 3 es el máximo de su fila y mínimo de su columna \n",
    "assert devuelve_puntos_silla(np.array([[1, 2, 3], [4, 5, 6], [7, 8, 9]])) == [(0, 2)]\n",
    "print(devuelve_puntos_silla(np.array([[1, 2, 3], [4, 5, 6], [7, 8, 9]]),False)) #(2,0) el 7 es el mínimo de su fila y máximo de su columna\n",
    "assert devuelve_puntos_silla(np.array([[1, 2, 3], [4, 5, 6], [7, 8, 9]]),False) == [(2, 0)]\n"
   ]
  },
  {
   "cell_type": "markdown",
   "metadata": {},
   "source": [
    "## "
   ]
  }
 ],
 "metadata": {
  "kernelspec": {
   "display_name": "base",
   "language": "python",
   "name": "python3"
  },
  "language_info": {
   "codemirror_mode": {
    "name": "ipython",
    "version": 3
   },
   "file_extension": ".py",
   "mimetype": "text/x-python",
   "name": "python",
   "nbconvert_exporter": "python",
   "pygments_lexer": "ipython3",
   "version": "3.12.0"
  }
 },
 "nbformat": 4,
 "nbformat_minor": 2
}
