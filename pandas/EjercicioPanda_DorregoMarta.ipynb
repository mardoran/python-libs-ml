{
 "cells": [
  {
   "cell_type": "markdown",
   "metadata": {},
   "source": [
    "### Ejercicio propuesto: Crear un DataFrame a partir de distintas estructuras de datos"
   ]
  },
  {
   "cell_type": "markdown",
   "metadata": {},
   "source": [
    "1. Solución con pd.Series"
   ]
  },
  {
   "cell_type": "code",
   "execution_count": 1,
   "metadata": {},
   "outputs": [
    {
     "data": {
      "text/html": [
       "<div>\n",
       "<style scoped>\n",
       "    .dataframe tbody tr th:only-of-type {\n",
       "        vertical-align: middle;\n",
       "    }\n",
       "\n",
       "    .dataframe tbody tr th {\n",
       "        vertical-align: top;\n",
       "    }\n",
       "\n",
       "    .dataframe thead th {\n",
       "        text-align: right;\n",
       "    }\n",
       "</style>\n",
       "<table border=\"1\" class=\"dataframe\">\n",
       "  <thead>\n",
       "    <tr style=\"text-align: right;\">\n",
       "      <th></th>\n",
       "      <th>Modulo 1</th>\n",
       "      <th>Modulo 2</th>\n",
       "      <th>Modulo 3</th>\n",
       "      <th>Modulo 4</th>\n",
       "      <th>Modulo 5</th>\n",
       "      <th>Modulo 6</th>\n",
       "      <th>Modulo 7</th>\n",
       "      <th>Modulo 8</th>\n",
       "    </tr>\n",
       "  </thead>\n",
       "  <tbody>\n",
       "    <tr>\n",
       "      <th>Alan Turing</th>\n",
       "      <td>7.0</td>\n",
       "      <td>9.0</td>\n",
       "      <td>9.1</td>\n",
       "      <td>8.9</td>\n",
       "      <td>9.3</td>\n",
       "      <td>5.9</td>\n",
       "      <td>8.9</td>\n",
       "      <td>7.0</td>\n",
       "    </tr>\n",
       "    <tr>\n",
       "      <th>Claude Shannon</th>\n",
       "      <td>6.5</td>\n",
       "      <td>8.0</td>\n",
       "      <td>8.7</td>\n",
       "      <td>6.7</td>\n",
       "      <td>2.1</td>\n",
       "      <td>5.7</td>\n",
       "      <td>6.7</td>\n",
       "      <td>6.5</td>\n",
       "    </tr>\n",
       "    <tr>\n",
       "      <th>John McCarthy</th>\n",
       "      <td>6.2</td>\n",
       "      <td>8.5</td>\n",
       "      <td>8.9</td>\n",
       "      <td>4.5</td>\n",
       "      <td>4.1</td>\n",
       "      <td>6.5</td>\n",
       "      <td>4.5</td>\n",
       "      <td>6.2</td>\n",
       "    </tr>\n",
       "    <tr>\n",
       "      <th>Marvin Minsky</th>\n",
       "      <td>5.7</td>\n",
       "      <td>8.0</td>\n",
       "      <td>9.5</td>\n",
       "      <td>3.3</td>\n",
       "      <td>3.5</td>\n",
       "      <td>8.3</td>\n",
       "      <td>3.3</td>\n",
       "      <td>5.7</td>\n",
       "    </tr>\n",
       "  </tbody>\n",
       "</table>\n",
       "</div>"
      ],
      "text/plain": [
       "                Modulo 1  Modulo 2  Modulo 3  Modulo 4  Modulo 5  Modulo 6  \\\n",
       "Alan Turing          7.0       9.0       9.1       8.9       9.3       5.9   \n",
       "Claude Shannon       6.5       8.0       8.7       6.7       2.1       5.7   \n",
       "John McCarthy        6.2       8.5       8.9       4.5       4.1       6.5   \n",
       "Marvin Minsky        5.7       8.0       9.5       3.3       3.5       8.3   \n",
       "\n",
       "                Modulo 7  Modulo 8  \n",
       "Alan Turing          8.9       7.0  \n",
       "Claude Shannon       6.7       6.5  \n",
       "John McCarthy        4.5       6.2  \n",
       "Marvin Minsky        3.3       5.7  "
      ]
     },
     "execution_count": 1,
     "metadata": {},
     "output_type": "execute_result"
    }
   ],
   "source": [
    "import pandas as pd\n",
    "import numpy as np\n",
    "\n",
    "# TODO: crear un dataframe con las notas de los 8 módulos. Cuando no se pasa un índice explícito, el orden es ('Marvin Minsky','John McCarthy','Claude Shannon','Alan Turing')\n",
    "\n",
    "notas_modulo1= {'Marvin Minsky': 5.7, 'John McCarthy': 6.2, 'Claude Shannon': 6.5, 'Alan Turing': 7.0}\n",
    "notas_modulo2= [('Marvin Minsky', 8.0), ('John McCarthy', 8.5), ('Claude Shannon', 8.0), ('Alan Turing', 9.0)]\n",
    "notas_modulo3= {('Marvin Minsky', 9.5), ('John McCarthy', 8.9), ('Claude Shannon', 8.7), ('Alan Turing', 9.1)}\n",
    "notas_modulo4= [3.3, 4.5, 6.7, 8.9]\n",
    "notas_modulo5= np.array([3.5, 4.1, 2.1, 9.3])\n",
    "notas_modulo6= pd.Series([8.3, 6.5, 5.7, 5.9])\n",
    "notas_modulo7= pd.Series([3.3, 4.5, 6.7, 8.9], index=['Marvin Minsky', 'John McCarthy', 'Claude Shannon', 'Alan Turing'])\n",
    "notas_modulo8= pd.Series({'Marvin Minsky': 5.7, 'John McCarthy': 6.2, 'Claude Shannon': 6.5, 'Alan Turing': 7.0})\n",
    "\n",
    "#creamos la variable estudiantes para pasar los index a las estructuras que no los incluyen\n",
    "estudiantes=['Marvin Minsky', 'John McCarthy', 'Claude Shannon', 'Alan Turing']\n",
    "#como notas_modulo6 ya es un pd.Series, asignamos los index a su propiedad, mientras que en el 4 y el 5 ya se le pasan al convertir a Series\n",
    "notas_modulo6.index=estudiantes\n",
    "\n",
    "# Crear el DataFrame con las notas de los 8 módulos\n",
    "df_notas = pd.DataFrame({\n",
    "    'Modulo 1': pd.Series(notas_modulo1),\n",
    "    'Modulo 2': pd.Series(dict(notas_modulo2)),\n",
    "    'Modulo 3': pd.Series(dict(notas_modulo3)),\n",
    "    'Modulo 4': pd.Series(notas_modulo4, index=estudiantes),\n",
    "    'Modulo 5': pd.Series(notas_modulo5, index=estudiantes),\n",
    "    'Modulo 6': notas_modulo6,\n",
    "    'Modulo 7': notas_modulo7,\n",
    "    'Modulo 8': notas_modulo8\n",
    "})\n",
    "\n",
    "#Visualizar el DataFrame\n",
    "df_notas\n"
   ]
  }
 ],
 "metadata": {
  "kernelspec": {
   "display_name": "Python 3",
   "language": "python",
   "name": "python3"
  },
  "language_info": {
   "codemirror_mode": {
    "name": "ipython",
    "version": 3
   },
   "file_extension": ".py",
   "mimetype": "text/x-python",
   "name": "python",
   "nbconvert_exporter": "python",
   "pygments_lexer": "ipython3",
   "version": "3.12.0"
  }
 },
 "nbformat": 4,
 "nbformat_minor": 2
}
