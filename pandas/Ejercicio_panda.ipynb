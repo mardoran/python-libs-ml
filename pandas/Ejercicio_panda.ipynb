{
 "cells": [
  {
   "cell_type": "markdown",
   "metadata": {},
   "source": [
    "### Ejercicio propuesto: Crear un DataFrame a partir de distintas estructuras de datos"
   ]
  },
  {
   "cell_type": "code",
   "execution_count": 7,
   "metadata": {},
   "outputs": [
    {
     "name": "stdout",
     "output_type": "stream",
     "text": [
      "                Modulo 1  Modulo 2  Modulo 3  Modulo 4  Modulo 5  Modulo 6  Modulo 7  Modulo 8\n",
      "0                    NaN       NaN       NaN       NaN       NaN       8.3       NaN       NaN\n",
      "1                    NaN       NaN       NaN       NaN       NaN       6.5       NaN       NaN\n",
      "2                    NaN       NaN       NaN       NaN       NaN       5.7       NaN       NaN\n",
      "3                    NaN       NaN       NaN       NaN       NaN       5.9       NaN       NaN\n",
      "Alan Turing          7.0       9.0       9.1       8.9       9.3       NaN       8.9       7.0\n",
      "Claude Shannon       6.5       8.0       8.7       6.7       2.1       NaN       6.7       6.5\n",
      "John McCarthy        6.2       8.5       8.9       4.5       4.1       NaN       4.5       6.2\n",
      "Marvin Minsky        5.7       8.0       9.5       3.3       3.5       NaN       3.3       5.7\n"
     ]
    }
   ],
   "source": [
    "import pandas as pd\n",
    "import numpy as np\n",
    "\n",
    "# TODO: crear un dataframe con las notas de los 8 módulos. Cuando no se pasa un índice explícito, el orden es ('Marvin Minsky','John McCarthy','Claude Shannon','Alan Turing')\n",
    "\n",
    "notas_modulo1 = {'Marvin Minsky': 5.7, 'John McCarthy': 6.2, 'Claude Shannon': 6.5, 'Alan Turing': 7.0}\n",
    "notas_modulo2 = [('Marvin Minsky', 8.0), ('John McCarthy', 8.5), ('Claude Shannon', 8.0), ('Alan Turing', 9.0)]\n",
    "notas_modulo3 = {('Marvin Minsky', 9.5), ('John McCarthy', 8.9), ('Claude Shannon', 8.7), ('Alan Turing', 9.1)}\n",
    "notas_modulo4 = [3.3, 4.5, 6.7, 8.9]\n",
    "notas_modulo5 = np.array([3.5, 4.1, 2.1, 9.3])\n",
    "notas_modulo6 = pd.Series([8.3, 6.5, 5.7, 5.9])\n",
    "notas_modulo7 = pd.Series([3.3, 4.5, 6.7, 8.9], index=['Marvin Minsky', 'John McCarthy', 'Claude Shannon', 'Alan Turing'])\n",
    "notas_modulo8 = pd.Series({'Marvin Minsky': 5.7, 'John McCarthy': 6.2, 'Claude Shannon': 6.5, 'Alan Turing': 7.0})\n",
    "\n",
    "# Crear el DataFrame con las notas de los 8 módulos\n",
    "# df_notas = pd.DataFrame({\n",
    "#     'Modulo 1': pd.Series(notas_modulo1),\n",
    "#     'Modulo 2': pd.Series(dict(notas_modulo2)),\n",
    "#     'Modulo 3': pd.Series(dict(notas_modulo3)),\n",
    "#     'Modulo 4': pd.Series(notas_modulo4, index=['Marvin Minsky', 'John McCarthy', 'Claude Shannon', 'Alan Turing']),\n",
    "#     'Modulo 5': pd.Series(notas_modulo5, index=['Marvin Minsky', 'John McCarthy', 'Claude Shannon', 'Alan Turing']),\n",
    "#     'Modulo 6': notas_modulo6,\n",
    "#     'Modulo 7': notas_modulo7,\n",
    "#     'Modulo 8': notas_modulo8\n",
    "# })\n",
    "\n",
    "# Visualizar el DataFrame\n",
    "#print(df_notas)\n",
    "\n",
    "# Gemini\n",
    "# Crear un diccionario con las notas de cada módulo\n",
    "notas_modulos = {\n",
    "    'Modulo 1': pd.Series(notas_modulo1),\n",
    "    'Modulo 2': pd.Series(dict(notas_modulo2)),\n",
    "    'Modulo 3': pd.Series(dict(notas_modulo3)),\n",
    "    'Modulo 4': pd.Series(notas_modulo4, index=['Marvin Minsky', 'John McCarthy', 'Claude Shannon', 'Alan Turing']),\n",
    "    'Modulo 5': pd.Series(notas_modulo5, index=['Marvin Minsky', 'John McCarthy', 'Claude Shannon', 'Alan Turing']),\n",
    "    \"Modulo 6\": notas_modulo6,\n",
    "    \"Modulo 7\": notas_modulo7,\n",
    "    \"Modulo 8\": notas_modulo8,\n",
    "}\n",
    "\n",
    "# Convertir el diccionario a un DataFrame\n",
    "df_notas = pd.DataFrame(notas_modulos)\n",
    "\n",
    "# Reordenar las columnas\n",
    "#columnas_ordenadas = ['Marvin Minsky', 'John McCarthy', 'Claude Shannon', 'Alan Turing']\n",
    "#df_notas = df_notas[columnas_ordenadas]\n",
    "\n",
    "# Mostrar el DataFrame\n",
    "print(df_notas.to_string())"
   ]
  }
 ],
 "metadata": {
  "kernelspec": {
   "display_name": "Python 3",
   "language": "python",
   "name": "python3"
  },
  "language_info": {
   "codemirror_mode": {
    "name": "ipython",
    "version": 3
   },
   "file_extension": ".py",
   "mimetype": "text/x-python",
   "name": "python",
   "nbconvert_exporter": "python",
   "pygments_lexer": "ipython3",
   "version": "3.12.0"
  }
 },
 "nbformat": 4,
 "nbformat_minor": 2
}
